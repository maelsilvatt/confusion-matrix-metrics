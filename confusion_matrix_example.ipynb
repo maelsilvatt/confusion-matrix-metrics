{
  "nbformat": 4,
  "nbformat_minor": 0,
  "metadata": {
    "colab": {
      "provenance": []
    },
    "kernelspec": {
      "name": "python3",
      "display_name": "Python 3"
    },
    "language_info": {
      "name": "python"
    }
  },
  "cells": [
    {
      "cell_type": "code",
      "execution_count": 2,
      "metadata": {
        "id": "tYJ9fuH887jZ"
      },
      "outputs": [],
      "source": [
        "import numpy as np\n",
        "\n",
        "# generate pseudo values for 'actual' and 'predicted'\n",
        "actual = np.random.binomial(1, 0.9, size = 1000)\n",
        "predicted = np.random.binomial(1, 0.9, size = 1000)"
      ]
    },
    {
      "cell_type": "code",
      "source": [
        "# generate our confusion matrix\n",
        "from sklearn import metrics\n",
        "\n",
        "confusion_matrix = metrics.confusion_matrix(actual, predicted)"
      ],
      "metadata": {
        "id": "MU8hMHBA9VIy"
      },
      "execution_count": 4,
      "outputs": []
    },
    {
      "cell_type": "code",
      "source": [
        "# shows our confusion matrix\n",
        "import matplotlib.pyplot as plt\n",
        "\n",
        "cm_display = metrics.ConfusionMatrixDisplay(confusion_matrix = confusion_matrix, display_labels = [False, True])\n",
        "cm_display.plot()\n",
        "plt.show()"
      ],
      "metadata": {
        "colab": {
          "base_uri": "https://localhost:8080/",
          "height": 279
        },
        "id": "rcOo4Uf59p-k",
        "outputId": "b5497e71-261e-46e8-bc7d-4e3b1965a33c"
      },
      "execution_count": 5,
      "outputs": [
        {
          "output_type": "display_data",
          "data": {
            "text/plain": [
              "<Figure size 432x288 with 2 Axes>"
            ],
            "image/png": "[encoded data removed]"
          },
          "metadata": {
            "needs_background": "light"
          }
        }
      ]
    },
    {
      "cell_type": "code",
      "source": [
        "# calculate metrics\n",
        "TP = 791\n",
        "FN = 98\n",
        "FP = 106\n",
        "TN = 5\n",
        "\n",
        "sensibility = TP / (TP + FN)\n",
        "specificity = TN / (TN + FP)\n",
        "accuracy = (TP + TN) / (TN + FP + FN + TP)\n",
        "precision = TP / (TP + FP)\n",
        "f1 = 2 * (precision * sensibility) / (precision + sensibility)\n",
        "\n",
        "print(f'Sensibility: {sensibility}\\n'\n",
        "      f'Specificity: {specificity}\\n'\n",
        "      f'Accuracy: {accuracy}\\n'\n",
        "      f'Precision: {precision}\\n'\n",
        "      f'F1: {f1}\\n')"
      ],
      "metadata": {
        "colab": {
          "base_uri": "https://localhost:8080/"
        },
        "id": "unzlUfuT-FaL",
        "outputId": "f9720ed9-817a-4354-c45d-d13bdd068d0f"
      },
      "execution_count": 8,
      "outputs": [
        {
          "output_type": "stream",
          "name": "stdout",
          "text": [
            "Sensibility: 0.889763779527559\n",
            "Specificity: 0.04504504504504504\n",
            "Accuracy: 0.796\n",
            "Precision: 0.8818283166109253\n",
            "F1: 0.8857782754759238\n",
            "\n"
          ]
        }
      ]
    }
  ]
}